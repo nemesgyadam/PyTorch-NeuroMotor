{
 "cells": [
  {
   "cell_type": "code",
   "execution_count": 1,
   "metadata": {},
   "outputs": [],
   "source": [
    "from torch.utils.data import DataLoader\n",
    "\n",
    "from src.dataset.MI_dataset_all_subjects import MI_Dataset as MI_Dataset_all_subjects\n",
    "from src.dataset.MI_dataset_single_subject import MI_Dataset as MI_Dataset_single_subject\n",
    "\n",
    "\n",
    "%load_ext autoreload\n",
    "%autoreload 2\n"
   ]
  },
  {
   "attachments": {},
   "cell_type": "markdown",
   "metadata": {},
   "source": [
    "### All Subject Dataset\n",
    "#### Ideal for cross subject validation"
   ]
  },
  {
   "cell_type": "code",
   "execution_count": 2,
   "metadata": {},
   "outputs": [
    {
     "name": "stdout",
     "output_type": "stream",
     "text": [
      "<EpochsArray |  288 events (all good), 1.9 - 5.9 sec, baseline -0.1 – 1.9 sec (baseline period was cropped after baseline correction), ~19.4 MB, data loaded,\n",
      " 'feet': 72\n",
      " 'left_hand': 72\n",
      " 'right_hand': 72\n",
      " 'tongue': 72>\n",
      "##################################################\n",
      "Dataset created:\n",
      "X --> torch.Size([288, 22, 401]) (torch.float32)\n",
      "y --> torch.Size([288]) (torch.int64)\n",
      "##################################################\n",
      "Channels:22\n",
      "Time-stamps:401\n"
     ]
    }
   ],
   "source": [
    "train_subjects = [1] #[1,2,3,4,5,6,7,8]\n",
    "test_subjects = [9]\n",
    "\n",
    "batch_size = 64\n",
    "\n",
    "train_dataset = MI_Dataset_all_subjects(train_subjects, verbose=True)\n",
    "#test_dataset = MI_Dataset_all_subjects(test_subjects, verbose=True)\n",
    "\n",
    "train_dataloader = DataLoader(train_dataset, batch_size=batch_size, shuffle=True)\n",
    "#test_dataloader = DataLoader(test_dataset, batch_size=batch_size, shuffle=False)\n",
    "\n",
    "print(f'Channels:{train_dataset.channels}')\n",
    "print(f'Time-stamps:{train_dataset.time_steps}')"
   ]
  },
  {
   "cell_type": "code",
   "execution_count": 3,
   "metadata": {},
   "outputs": [
    {
     "name": "stdout",
     "output_type": "stream",
     "text": [
      "torch.Size([64, 22, 401])\n",
      "tensor([3, 0, 0, 1, 1, 2, 0, 3, 1, 3, 1, 0, 1, 1, 3, 1, 2, 1, 1, 3, 1, 0, 2, 2,\n",
      "        3, 0, 2, 0, 0, 2, 1, 3, 3, 1, 1, 1, 0, 1, 0, 1, 0, 3, 2, 1, 2, 2, 3, 2,\n",
      "        0, 2, 2, 1, 3, 2, 2, 0, 2, 1, 1, 3, 0, 2, 0, 2])\n"
     ]
    }
   ],
   "source": [
    "# Example usage:\n",
    "\n",
    "for features, label in train_dataloader:\n",
    "    print(features.shape)\n",
    "    print(label)\n",
    "    break\n"
   ]
  },
  {
   "cell_type": "code",
   "execution_count": null,
   "metadata": {},
   "outputs": [],
   "source": []
  },
  {
   "cell_type": "code",
   "execution_count": null,
   "metadata": {},
   "outputs": [],
   "source": []
  },
  {
   "attachments": {},
   "cell_type": "markdown",
   "metadata": {},
   "source": [
    "### Single Subject Dataset\n",
    "#### Ideal for run CV"
   ]
  },
  {
   "cell_type": "code",
   "execution_count": 4,
   "metadata": {},
   "outputs": [
    {
     "name": "stdout",
     "output_type": "stream",
     "text": [
      "Train dataset:\n",
      "<Epochs |  288 events (all good), 1.9 - 5.9 sec, baseline -0.1 – 1.9 sec (baseline period was cropped after baseline correction), ~19.4 MB, data loaded,\n",
      " 'feet': 72\n",
      " 'left_hand': 72\n",
      " 'right_hand': 72\n",
      " 'tongue': 72>\n",
      "##################################################\n",
      "Dataset created:\n",
      "X --> torch.Size([240, 22, 401]) (torch.float32)\n",
      "y --> torch.Size([240]) (torch.int64)\n",
      "##################################################\n",
      "\n",
      "\n",
      "Test dataset:\n",
      "<Epochs |  288 events (all good), 1.9 - 5.9 sec, baseline -0.1 – 1.9 sec (baseline period was cropped after baseline correction), ~19.4 MB, data loaded,\n",
      " 'feet': 72\n",
      " 'left_hand': 72\n",
      " 'right_hand': 72\n",
      " 'tongue': 72>\n",
      "##################################################\n",
      "Dataset created:\n",
      "X --> torch.Size([48, 22, 401]) (torch.float32)\n",
      "y --> torch.Size([48]) (torch.int64)\n",
      "##################################################\n",
      "Channels:22\n",
      "Time-stamps:401\n"
     ]
    }
   ],
   "source": [
    "subject = 1\n",
    "train_runs = [0, 1,2,3,4]\n",
    "test_runs = [5]\n",
    "\n",
    "batch_size = 64\n",
    "\n",
    "print(\"Train dataset:\")\n",
    "train_dataset = MI_Dataset_single_subject(subject, train_runs, verbose=True)\n",
    "\n",
    "print()\n",
    "print()\n",
    "print(\"Test dataset:\")\n",
    "test_dataset = MI_Dataset_single_subject(subject, test_runs, verbose=True)\n",
    "\n",
    "train_dataloader = DataLoader(train_dataset, batch_size=batch_size, shuffle=True)\n",
    "test_dataloader = DataLoader(test_dataset, batch_size=batch_size, shuffle=False)\n",
    "\n",
    "print(f'Channels:{train_dataset.channels}')\n",
    "print(f'Time-stamps:{train_dataset.time_steps}')"
   ]
  },
  {
   "cell_type": "code",
   "execution_count": 5,
   "metadata": {},
   "outputs": [
    {
     "name": "stdout",
     "output_type": "stream",
     "text": [
      "torch.Size([64, 22, 401])\n",
      "tensor([2, 0, 3, 3, 0, 0, 2, 1, 3, 3, 3, 3, 1, 1, 2, 0, 1, 1, 3, 3, 3, 3, 0, 2,\n",
      "        1, 2, 2, 2, 0, 1, 0, 1, 3, 2, 0, 2, 2, 1, 0, 0, 3, 2, 1, 1, 0, 0, 0, 3,\n",
      "        2, 2, 2, 2, 1, 1, 2, 1, 2, 0, 0, 3, 1, 2, 3, 2])\n"
     ]
    }
   ],
   "source": [
    "# Example usage:\n",
    "for features, label in train_dataloader:\n",
    "    print(features.shape)\n",
    "    print(label)\n",
    "    break\n"
   ]
  },
  {
   "cell_type": "code",
   "execution_count": null,
   "metadata": {},
   "outputs": [],
   "source": []
  }
 ],
 "metadata": {
  "kernelspec": {
   "display_name": "torch",
   "language": "python",
   "name": "python3"
  },
  "language_info": {
   "codemirror_mode": {
    "name": "ipython",
    "version": 3
   },
   "file_extension": ".py",
   "mimetype": "text/x-python",
   "name": "python",
   "nbconvert_exporter": "python",
   "pygments_lexer": "ipython3",
   "version": "3.11.0"
  },
  "orig_nbformat": 4
 },
 "nbformat": 4,
 "nbformat_minor": 2
}
