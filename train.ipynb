{
 "cells": [
  {
   "cell_type": "code",
   "execution_count": 1,
   "metadata": {},
   "outputs": [],
   "source": [
    "import torch\n",
    "import torch.nn as nn\n",
    "import torch.optim as optim\n",
    "from torchsummary import summary\n",
    "\n",
    "\n",
    "from torch.utils.data import DataLoader\n",
    "\n",
    "from src.dataset.MI_dataset_all_subjects import MI_Dataset as MI_Dataset_all_subjects\n",
    "from src.dataset.MI_dataset_single_subject import MI_Dataset as MI_Dataset_single_subject\n",
    "\n",
    "from config.default import cfg\n",
    "\n",
    "\n",
    "from models.eegnet import EEGNet\n",
    "\n",
    "from utils.eval import accuracy\n",
    "\n",
    "%load_ext autoreload\n",
    "%autoreload 2\n"
   ]
  },
  {
   "cell_type": "code",
   "execution_count": 2,
   "metadata": {},
   "outputs": [
    {
     "data": {
      "text/plain": [
       "'cpu'"
      ]
     },
     "execution_count": 2,
     "metadata": {},
     "output_type": "execute_result"
    }
   ],
   "source": [
    "device = 'cpu'# torch.device('cuda' if torch.cuda.is_available() else 'cpu')\n",
    "device"
   ]
  },
  {
   "cell_type": "code",
   "execution_count": 3,
   "metadata": {},
   "outputs": [],
   "source": [
    "subject = 1\n",
    "train_runs = [0,1,2,3,4]\n",
    "test_runs = [5]\n",
    "\n",
    "\n",
    "train_dataset = MI_Dataset_single_subject(subject, train_runs, device = device)\n",
    "test_dataset = MI_Dataset_single_subject(subject, test_runs, device = device)\n",
    "\n",
    "train_dataloader = DataLoader(train_dataset,  batch_size=cfg['train']['batch_size'], shuffle=True, drop_last=True)\n",
    "test_dataloader = DataLoader(test_dataset,  batch_size=cfg['train']['batch_size'], shuffle=False, drop_last=True)"
   ]
  },
  {
   "cell_type": "code",
   "execution_count": 4,
   "metadata": {},
   "outputs": [
    {
     "name": "stdout",
     "output_type": "stream",
     "text": [
      "Train dataset: 240 samples\n",
      "Test dataset: 48 samples\n",
      "torch.Size([48, 22, 401])\n",
      "tensor([1, 0, 3, 3, 2, 3, 3, 2, 2, 3, 3, 0, 0, 0, 0, 3, 3, 2, 0, 3, 2, 2, 2, 2,\n",
      "        0, 0, 0, 2, 0, 3, 0, 2, 0, 3, 2, 0, 3, 3, 2, 3, 3, 1, 2, 1, 0, 2, 1, 2])\n"
     ]
    }
   ],
   "source": [
    "print(f\"Train dataset: {len(train_dataset)} samples\")\n",
    "print(f\"Test dataset: {len(test_dataset)} samples\")\n",
    "\n",
    "for features, label in train_dataloader:\n",
    "    print(features.shape)\n",
    "    print(label)\n",
    "    break\n",
    "    \n"
   ]
  },
  {
   "cell_type": "code",
   "execution_count": 10,
   "metadata": {},
   "outputs": [
    {
     "name": "stdout",
     "output_type": "stream",
     "text": [
      "[0, 1, 2, 3, 4, 5]\n"
     ]
    }
   ],
   "source": [
    "print()"
   ]
  },
  {
   "cell_type": "code",
   "execution_count": 5,
   "metadata": {},
   "outputs": [
    {
     "name": "stdout",
     "output_type": "stream",
     "text": [
      "=================================================================\n",
      "Layer (type:depth-idx)                   Param #\n",
      "=================================================================\n",
      "├─Conv2d: 1-1                            1,024\n",
      "├─BatchNorm2d: 1-2                       32\n",
      "├─Conv2d: 1-3                            704\n",
      "├─BatchNorm2d: 1-4                       64\n",
      "├─ELU: 1-5                               --\n",
      "├─AvgPool2d: 1-6                         --\n",
      "├─Dropout: 1-7                           --\n",
      "├─Conv2d: 1-8                            512\n",
      "├─Conv2d: 1-9                            1,024\n",
      "├─BatchNorm2d: 1-10                      64\n",
      "├─AvgPool2d: 1-11                        --\n",
      "├─Dropout: 1-12                          --\n",
      "├─Flatten: 1-13                          --\n",
      "├─Linear: 1-14                           1,540\n",
      "=================================================================\n",
      "Total params: 4,964\n",
      "Trainable params: 4,964\n",
      "Non-trainable params: 0\n",
      "=================================================================\n"
     ]
    }
   ],
   "source": [
    "Chans = train_dataset.channels\n",
    "Samples = train_dataset.samples\n",
    "model = EEGNet(Chans = Chans, Samples = Samples, nb_classes = 4)\n",
    "model.to(device)\n",
    "summary(model, input_size=(5, 10, *next(iter(train_dataloader))[0][0].shape));\n",
    "\n"
   ]
  },
  {
   "cell_type": "code",
   "execution_count": 6,
   "metadata": {},
   "outputs": [],
   "source": [
    "# Test forward pass\n",
    "model(next(iter(train_dataloader))[0]);"
   ]
  },
  {
   "cell_type": "code",
   "execution_count": 7,
   "metadata": {},
   "outputs": [
    {
     "name": "stdout",
     "output_type": "stream",
     "text": [
      "Epoch 10/200, Loss: 6.904281377792358, Train accuracy: 41.25%, Test accuracy: 39.58%\n",
      "Epoch 20/200, Loss: 5.306385397911072, Train accuracy: 52.08%, Test accuracy: 54.17%\n",
      "Epoch 30/200, Loss: 4.5273659229278564, Train accuracy: 58.75%, Test accuracy: 50.00%\n",
      "Epoch 40/200, Loss: 4.3288968205451965, Train accuracy: 61.67%, Test accuracy: 54.17%\n",
      "Epoch 50/200, Loss: 4.178534686565399, Train accuracy: 62.08%, Test accuracy: 56.25%\n",
      "Epoch 60/200, Loss: 4.008547604084015, Train accuracy: 67.08%, Test accuracy: 54.17%\n",
      "Epoch 70/200, Loss: 3.810042381286621, Train accuracy: 68.33%, Test accuracy: 54.17%\n",
      "Epoch 80/200, Loss: 3.5475112795829773, Train accuracy: 69.17%, Test accuracy: 56.25%\n",
      "Epoch 90/200, Loss: 3.256771981716156, Train accuracy: 71.67%, Test accuracy: 58.33%\n",
      "Epoch 100/200, Loss: 3.0114961564540863, Train accuracy: 76.25%, Test accuracy: 58.33%\n",
      "Epoch 110/200, Loss: 2.803924411535263, Train accuracy: 78.33%, Test accuracy: 56.25%\n",
      "Epoch 120/200, Loss: 2.620469957590103, Train accuracy: 80.83%, Test accuracy: 58.33%\n",
      "Epoch 130/200, Loss: 2.450449138879776, Train accuracy: 80.42%, Test accuracy: 56.25%\n",
      "Epoch 140/200, Loss: 2.3025057911872864, Train accuracy: 83.33%, Test accuracy: 56.25%\n",
      "Epoch 150/200, Loss: 2.167787581682205, Train accuracy: 83.33%, Test accuracy: 58.33%\n",
      "Epoch 160/200, Loss: 2.0487232506275177, Train accuracy: 85.83%, Test accuracy: 58.33%\n",
      "Epoch 170/200, Loss: 1.9309188425540924, Train accuracy: 86.25%, Test accuracy: 60.42%\n",
      "Epoch 180/200, Loss: 1.8508074283599854, Train accuracy: 86.67%, Test accuracy: 60.42%\n",
      "Epoch 190/200, Loss: 1.730303794145584, Train accuracy: 87.08%, Test accuracy: 62.50%\n",
      "Epoch 200/200, Loss: 1.635293111205101, Train accuracy: 90.00%, Test accuracy: 60.42%\n",
      "##################################################\n",
      "Final_loss: 1.635293111205101\n",
      "Final train accuracy: 90.00%\n",
      "Final test accuracy: 60.42%\n"
     ]
    }
   ],
   "source": [
    "criterion = nn.CrossEntropyLoss()\n",
    "optimizer = torch.optim.Adam(model.parameters(), lr=cfg['train']['learning_rate'], weight_decay=cfg['train']['weight_decay'])\n",
    "\n",
    "# Training loop\n",
    "for epoch in range(cfg['train']['n_epochs']):\n",
    "    epoch_loss = 0.0\n",
    "\n",
    "    for batch_features, batch_labels in train_dataloader:\n",
    "        optimizer.zero_grad()\n",
    "        outputs = model(batch_features)\n",
    "        loss = criterion(outputs, batch_labels)\n",
    "        loss.backward()\n",
    "        optimizer.step()\n",
    "        epoch_loss += loss.item()\n",
    "\n",
    "    if epoch % 10 == 9:\n",
    "        train_accuracy = accuracy(model, train_dataloader)\n",
    "        test_accuracy = accuracy(model, test_dataloader)\n",
    "        print(f\"Epoch {epoch + 1}/{cfg['train']['n_epochs']}, Loss: {epoch_loss}, Train accuracy: {train_accuracy:.2f}%, Test accuracy: {test_accuracy:.2f}%\")\n",
    "\n",
    "print(\"#\"*50)\n",
    "print(f'Final_loss: {epoch_loss}')\n",
    "print(f'Final train accuracy: {accuracy(model, train_dataloader):.2f}%')\n",
    "print(f'Final test accuracy: {accuracy(model, test_dataloader):.2f}%')"
   ]
  },
  {
   "cell_type": "code",
   "execution_count": null,
   "metadata": {},
   "outputs": [],
   "source": []
  }
 ],
 "metadata": {
  "kernelspec": {
   "display_name": "torch",
   "language": "python",
   "name": "python3"
  },
  "language_info": {
   "codemirror_mode": {
    "name": "ipython",
    "version": 3
   },
   "file_extension": ".py",
   "mimetype": "text/x-python",
   "name": "python",
   "nbconvert_exporter": "python",
   "pygments_lexer": "ipython3",
   "version": "3.11.0"
  },
  "orig_nbformat": 4
 },
 "nbformat": 4,
 "nbformat_minor": 2
}
