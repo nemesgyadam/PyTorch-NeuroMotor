{
 "cells": [
  {
   "cell_type": "code",
   "execution_count": 1,
   "metadata": {},
   "outputs": [],
   "source": [
    "import torch\n",
    "import torch.nn as nn\n",
    "import torch.optim as optim\n",
    "from torchsummary import summary\n",
    "\n",
    "\n",
    "from torch.utils.data import DataLoader\n",
    "\n",
    "from src.dataset.MI_dataset_all_subjects import MI_Dataset as MI_Dataset_all_subjects\n",
    "from src.dataset.MI_dataset_single_subject import MI_Dataset as MI_Dataset_single_subject\n",
    "\n",
    "from config.default import cfg\n",
    "\n",
    "\n",
    "from models.eegnet import EEGNet\n",
    "\n",
    "from utils.eval import accuracy\n",
    "\n",
    "%load_ext autoreload\n",
    "%autoreload 2\n"
   ]
  },
  {
   "cell_type": "code",
   "execution_count": 2,
   "metadata": {},
   "outputs": [
    {
     "data": {
      "text/plain": [
       "'cpu'"
      ]
     },
     "execution_count": 2,
     "metadata": {},
     "output_type": "execute_result"
    }
   ],
   "source": [
    "device = 'cpu'# torch.device('cuda' if torch.cuda.is_available() else 'cpu')\n",
    "device"
   ]
  },
  {
   "cell_type": "code",
   "execution_count": 3,
   "metadata": {},
   "outputs": [],
   "source": [
    "subject = 1\n",
    "train_runs = [0,1,2,3,4]\n",
    "test_runs = [5]\n",
    "\n",
    "\n",
    "train_dataset = MI_Dataset_single_subject(subject, train_runs, device = device)\n",
    "test_dataset = MI_Dataset_single_subject(subject, test_runs, device = device)\n",
    "\n",
    "train_dataloader = DataLoader(train_dataset,  batch_size=cfg['train']['batch_size'], shuffle=True, drop_last=True)\n",
    "test_dataloader = DataLoader(test_dataset,  batch_size=cfg['train']['batch_size'], shuffle=False, drop_last=True)"
   ]
  },
  {
   "cell_type": "code",
   "execution_count": 4,
   "metadata": {},
   "outputs": [
    {
     "name": "stdout",
     "output_type": "stream",
     "text": [
      "Train dataset: 240 samples\n",
      "Test dataset: 48 samples\n",
      "torch.Size([48, 22, 401])\n",
      "tensor([2, 1, 1, 0, 2, 2, 1, 1, 2, 1, 0, 0, 3, 1, 3, 0, 1, 2, 2, 1, 0, 3, 2, 2,\n",
      "        3, 3, 1, 3, 3, 2, 0, 0, 1, 1, 0, 3, 3, 0, 3, 0, 3, 3, 0, 1, 2, 2, 2, 2])\n"
     ]
    }
   ],
   "source": [
    "print(f\"Train dataset: {len(train_dataset)} samples\")\n",
    "print(f\"Test dataset: {len(test_dataset)} samples\")\n",
    "\n",
    "for features, label in train_dataloader:\n",
    "    print(features.shape)\n",
    "    print(label)\n",
    "    break\n",
    "    \n"
   ]
  },
  {
   "cell_type": "code",
   "execution_count": 5,
   "metadata": {},
   "outputs": [
    {
     "name": "stdout",
     "output_type": "stream",
     "text": [
      "=================================================================\n",
      "Layer (type:depth-idx)                   Param #\n",
      "=================================================================\n",
      "├─Conv2d: 1-1                            1,024\n",
      "├─BatchNorm2d: 1-2                       32\n",
      "├─Conv2d: 1-3                            704\n",
      "├─BatchNorm2d: 1-4                       64\n",
      "├─ELU: 1-5                               --\n",
      "├─AvgPool2d: 1-6                         --\n",
      "├─Dropout: 1-7                           --\n",
      "├─Conv2d: 1-8                            512\n",
      "├─Conv2d: 1-9                            1,024\n",
      "├─BatchNorm2d: 1-10                      64\n",
      "├─AvgPool2d: 1-11                        --\n",
      "├─Dropout: 1-12                          --\n",
      "├─Flatten: 1-13                          --\n",
      "├─Linear: 1-14                           1,540\n",
      "=================================================================\n",
      "Total params: 4,964\n",
      "Trainable params: 4,964\n",
      "Non-trainable params: 0\n",
      "=================================================================\n"
     ]
    }
   ],
   "source": [
    "#model = EEGNetv4(3,cfg[\"model\"][\"n_classes\"],input_window_samples=641)\n",
    "#model = EEGNet()\n",
    "#model = MyModel([64, 25, 401])\n",
    "\n",
    "Chans = next(iter(train_dataloader))[0][0].shape[0]\n",
    "Samples = next(iter(train_dataloader))[0][0].shape[1]\n",
    "model = EEGNet(Chans = Chans, Samples = Samples, nb_classes = 4)\n",
    "model.to(device)\n",
    "summary(model, input_size=(5, 10, *next(iter(train_dataloader))[0][0].shape));\n",
    "\n"
   ]
  },
  {
   "cell_type": "code",
   "execution_count": 6,
   "metadata": {},
   "outputs": [],
   "source": [
    "# Test forward pass\n",
    "model(next(iter(train_dataloader))[0]);"
   ]
  },
  {
   "cell_type": "code",
   "execution_count": 7,
   "metadata": {},
   "outputs": [
    {
     "name": "stdout",
     "output_type": "stream",
     "text": [
      "Epoch 10/200, Loss: 6.906140208244324, Train accuracy: 27.08%, Test accuracy: 14.58%\n",
      "Epoch 20/200, Loss: 6.171535611152649, Train accuracy: 47.92%, Test accuracy: 35.42%\n",
      "Epoch 30/200, Loss: 4.667204797267914, Train accuracy: 58.75%, Test accuracy: 43.75%\n",
      "Epoch 40/200, Loss: 4.2737919092178345, Train accuracy: 61.67%, Test accuracy: 45.83%\n",
      "Epoch 50/200, Loss: 4.071137011051178, Train accuracy: 64.17%, Test accuracy: 56.25%\n",
      "Epoch 60/200, Loss: 3.8616331219673157, Train accuracy: 68.33%, Test accuracy: 66.67%\n",
      "Epoch 70/200, Loss: 3.6464752554893494, Train accuracy: 70.42%, Test accuracy: 66.67%\n",
      "Epoch 80/200, Loss: 3.4538474082946777, Train accuracy: 69.58%, Test accuracy: 72.92%\n",
      "Epoch 90/200, Loss: 3.3149185180664062, Train accuracy: 69.58%, Test accuracy: 72.92%\n",
      "Epoch 100/200, Loss: 3.2068055868148804, Train accuracy: 70.00%, Test accuracy: 75.00%\n",
      "Epoch 110/200, Loss: 3.1474274396896362, Train accuracy: 70.83%, Test accuracy: 75.00%\n",
      "Epoch 120/200, Loss: 3.0369244813919067, Train accuracy: 72.08%, Test accuracy: 72.92%\n",
      "Epoch 130/200, Loss: 2.930171698331833, Train accuracy: 74.17%, Test accuracy: 70.83%\n",
      "Epoch 140/200, Loss: 2.843331456184387, Train accuracy: 74.17%, Test accuracy: 70.83%\n",
      "Epoch 150/200, Loss: 2.753566175699234, Train accuracy: 75.42%, Test accuracy: 70.83%\n",
      "Epoch 160/200, Loss: 2.6683753728866577, Train accuracy: 77.08%, Test accuracy: 72.92%\n",
      "Epoch 170/200, Loss: 2.6141312420368195, Train accuracy: 77.08%, Test accuracy: 72.92%\n",
      "Epoch 180/200, Loss: 2.5069397389888763, Train accuracy: 79.17%, Test accuracy: 70.83%\n",
      "Epoch 190/200, Loss: 2.4300479888916016, Train accuracy: 78.75%, Test accuracy: 70.83%\n",
      "Epoch 200/200, Loss: 2.3800992369651794, Train accuracy: 80.83%, Test accuracy: 72.92%\n",
      "##################################################\n",
      "Final_loss: 2.3800992369651794\n",
      "Final train accuracy: 80.83%\n",
      "Final test accuracy: 72.92%\n"
     ]
    }
   ],
   "source": [
    "criterion = nn.CrossEntropyLoss()\n",
    "optimizer = torch.optim.Adam(model.parameters(), lr=cfg['train']['learning_rate'], weight_decay=cfg['train']['weight_decay'])\n",
    "\n",
    "# Training loop\n",
    "for epoch in range(cfg['train']['n_epochs']):\n",
    "    epoch_loss = 0.0\n",
    "\n",
    "    for batch_features, batch_labels in train_dataloader:\n",
    "        optimizer.zero_grad()\n",
    "        outputs = model(batch_features)\n",
    "        loss = criterion(outputs, batch_labels)\n",
    "        loss.backward()\n",
    "        optimizer.step()\n",
    "        epoch_loss += loss.item()\n",
    "\n",
    "    if epoch % 10 == 9:\n",
    "        train_accuracy = accuracy(model, train_dataloader)\n",
    "        test_accuracy = accuracy(model, test_dataloader)\n",
    "        print(f\"Epoch {epoch + 1}/{cfg['train']['n_epochs']}, Loss: {epoch_loss}, Train accuracy: {train_accuracy:.2f}%, Test accuracy: {test_accuracy:.2f}%\")\n",
    "\n",
    "print(\"#\"*50)\n",
    "print(f'Final_loss: {epoch_loss}')\n",
    "print(f'Final train accuracy: {accuracy(model, train_dataloader):.2f}%')\n",
    "print(f'Final test accuracy: {accuracy(model, test_dataloader):.2f}%')"
   ]
  },
  {
   "cell_type": "code",
   "execution_count": null,
   "metadata": {},
   "outputs": [],
   "source": []
  }
 ],
 "metadata": {
  "kernelspec": {
   "display_name": "torch",
   "language": "python",
   "name": "python3"
  },
  "language_info": {
   "codemirror_mode": {
    "name": "ipython",
    "version": 3
   },
   "file_extension": ".py",
   "mimetype": "text/x-python",
   "name": "python",
   "nbconvert_exporter": "python",
   "pygments_lexer": "ipython3",
   "version": "3.11.0"
  },
  "orig_nbformat": 4
 },
 "nbformat": 4,
 "nbformat_minor": 2
}
