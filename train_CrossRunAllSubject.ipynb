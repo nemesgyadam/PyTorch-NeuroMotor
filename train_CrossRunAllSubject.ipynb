{
 "cells": [
  {
   "cell_type": "code",
   "execution_count": 1,
   "metadata": {},
   "outputs": [],
   "source": [
    "import random\n",
    "import numpy as np\n",
    "import torch\n",
    "import torch.nn as nn\n",
    "import torch.optim as optim\n",
    "from torchsummary import summary\n",
    "\n",
    "\n",
    "from torch.utils.data import DataLoader\n",
    "from torch.utils.data import ConcatDataset\n",
    "\n",
    "from src.dataset.MI_dataset_single_subject import MI_Dataset as MI_Dataset_single_subject\n",
    "\n",
    "from config.default import cfg\n",
    "\n",
    "\n",
    "from models.conditioned_eegnet import ConditionedEEGNet\n",
    "\n",
    "from utils.eval import accuracy\n",
    "from utils.model import print_parameters\n",
    "\n",
    "%load_ext autoreload\n",
    "%autoreload 2\n"
   ]
  },
  {
   "cell_type": "code",
   "execution_count": 2,
   "metadata": {},
   "outputs": [],
   "source": [
    "subjects = [1,2,3,4,5,6,7,8,9]\n",
    "train_runs = {\n",
    "                1:[0, 1, 2, 3, 4],\n",
    "                2:[0, 1, 2, 3, 4],\n",
    "                3:[0, 1, 2, 3, 4],\n",
    "                4:[0, 1],\n",
    "                5:[0, 1, 2, 3, 4],\n",
    "                6:[0, 1, 2, 3, 4],\n",
    "                7:[0, 1, 2, 3, 4],\n",
    "                8:[0, 1, 2, 3, 4],\n",
    "                9:[0, 1, 2, 3, 4]\n",
    "        }\n",
    "test_runs = {\n",
    "                1:[5],\n",
    "                2:[5],\n",
    "                3:[5],\n",
    "                4:[2],\n",
    "                5:[5],\n",
    "                6:[5],\n",
    "                7:[5],\n",
    "                8:[5],\n",
    "                9:[5]\n",
    "}\n",
    "\n",
    "batch_size = 64"
   ]
  },
  {
   "cell_type": "code",
   "execution_count": 3,
   "metadata": {},
   "outputs": [
    {
     "data": {
      "text/plain": [
       "device(type='cpu')"
      ]
     },
     "execution_count": 3,
     "metadata": {},
     "output_type": "execute_result"
    }
   ],
   "source": [
    "device =  torch.device('cuda' if torch.cuda.is_available() else 'cpu')\n",
    "device"
   ]
  },
  {
   "cell_type": "code",
   "execution_count": 4,
   "metadata": {},
   "outputs": [],
   "source": [
    "random.seed(42)\n",
    "np.random.seed(42)\n",
    "torch.manual_seed(42)\n",
    "\n",
    "if torch.cuda.is_available():\n",
    "    torch.cuda.manual_seed(42)\n",
    "    torch.backends.cudnn.deterministic = True\n",
    "    torch.backends.cudnn.benchmark = False"
   ]
  },
  {
   "cell_type": "code",
   "execution_count": 5,
   "metadata": {},
   "outputs": [
    {
     "name": "stdout",
     "output_type": "stream",
     "text": [
      "Train dataset: 2016 samples\n"
     ]
    }
   ],
   "source": [
    "train_datasets = []\n",
    "\n",
    "for subject in subjects:\n",
    "    dataset = MI_Dataset_single_subject(subject, train_runs[subject], return_subject_id=True, device=device, verbose=False)\n",
    "    train_datasets.append(dataset)\n",
    "    channels = dataset.channels\n",
    "    time_steps = dataset.time_steps\n",
    "train_dataset = ConcatDataset(train_datasets)\n",
    "\n",
    "train_dataloader = DataLoader(train_dataset, batch_size=batch_size, shuffle=True)\n",
    "print(f\"Train dataset: {len(train_dataset)} samples\")"
   ]
  },
  {
   "cell_type": "code",
   "execution_count": 6,
   "metadata": {},
   "outputs": [
    {
     "name": "stdout",
     "output_type": "stream",
     "text": [
      "Test dataset: 432 samples\n"
     ]
    }
   ],
   "source": [
    "test_datasets = []\n",
    "for subject in subjects:\n",
    "    test_datasets.append(MI_Dataset_single_subject(subject, test_runs[subject],return_subject_id=True, device=device, verbose=False))\n",
    "test_dataset = ConcatDataset(test_datasets)\n",
    "\n",
    "test_dataloader = DataLoader(test_dataset, batch_size=batch_size, shuffle=False)\n",
    "print(f\"Test dataset: {len(test_dataset)} samples\")"
   ]
  },
  {
   "cell_type": "code",
   "execution_count": 7,
   "metadata": {},
   "outputs": [
    {
     "name": "stdout",
     "output_type": "stream",
     "text": [
      "Train dataset: 2016 samples\n",
      "Test dataset: 432 samples\n",
      "tensor([0, 2, 0, 4, 2, 0, 3, 6, 5, 5, 8, 6, 7, 0, 4, 2, 4, 8, 0, 1, 4, 8, 5, 4,\n",
      "        5, 4, 4, 5, 0, 5, 1, 4, 7, 8, 7, 3, 2, 2, 8, 1, 6, 0, 8, 2, 1, 0, 0, 3,\n",
      "        3, 4, 5, 5, 5, 7, 8, 2, 7, 1, 2, 4, 0, 4, 1, 7])\n"
     ]
    }
   ],
   "source": [
    "print(f\"Train dataset: {len(train_dataset)} samples\")\n",
    "print(f\"Test dataset: {len(test_dataset)} samples\")\n",
    "\n",
    "for feature, label in train_dataloader:\n",
    "    # print(feature[0].shape)\n",
    "    # print(feature[1].shape)\n",
    "    # print(label)\n",
    "    print(feature[1])\n",
    "    break"
   ]
  },
  {
   "cell_type": "code",
   "execution_count": 8,
   "metadata": {},
   "outputs": [
    {
     "name": "stdout",
     "output_type": "stream",
     "text": [
      "eeg_processor.conv1.weight.... --> 1024\n",
      "eeg_processor.bn1.weight...... --> 16\n",
      "eeg_processor.bn1.bias........ --> 16\n",
      "eeg_processor.dw_conv1.weight. --> 704\n",
      "eeg_processor.bn2.weight...... --> 32\n",
      "eeg_processor.bn2.bias........ --> 32\n",
      "eeg_processor.sep_conv1.weight --> 512\n",
      "eeg_processor.conv2.weight.... --> 1024\n",
      "eeg_processor.bn3.weight...... --> 32\n",
      "eeg_processor.bn3.bias........ --> 32\n",
      "subject_processor.fn1.weight.. --> 144\n",
      "subject_processor.fn1.bias.... --> 16\n",
      "query.weight.................. --> 12288\n",
      "key.weight.................... --> 512\n",
      "value.weight.................. --> 12288\n",
      "fn1.weight.................... --> 4096\n",
      "fn1.bias...................... --> 128\n",
      "fn2.weight.................... --> 512\n",
      "fn2.bias...................... --> 4\n",
      "\n",
      "Total Parameter Count:........ --> 33412\n"
     ]
    }
   ],
   "source": [
    "model = ConditionedEEGNet(num_subjects = len(subjects), channels = channels, samples= time_steps, num_classes = 4)\n",
    "model.to(device)\n",
    "print_parameters(model)"
   ]
  },
  {
   "cell_type": "code",
   "execution_count": 9,
   "metadata": {},
   "outputs": [
    {
     "name": "stdout",
     "output_type": "stream",
     "text": [
      "Epoch 10/200, Loss: 44.31196594238281, Train accuracy: 26.59%, Test accuracy: 27.55%\n"
     ]
    }
   ],
   "source": [
    "criterion = nn.CrossEntropyLoss()\n",
    "optimizer = torch.optim.Adam(model.parameters(), lr=cfg['train']['learning_rate'], weight_decay=cfg['train']['weight_decay'])\n",
    "\n",
    "# Training loop\n",
    "for epoch in range(cfg['train']['n_epochs']):\n",
    "    epoch_loss = 0.0\n",
    "\n",
    "    for batch_features, batch_labels in train_dataloader:\n",
    "        optimizer.zero_grad()\n",
    "        outputs = model(batch_features[0], batch_features[1])\n",
    "        loss = criterion(outputs, batch_labels)\n",
    "        loss.backward()\n",
    "        optimizer.step()\n",
    "        epoch_loss += loss.item()\n",
    "\n",
    "    if epoch % 10 == 9:\n",
    "        train_accuracy = accuracy(model, train_dataloader)\n",
    "        test_accuracy = accuracy(model, test_dataloader)\n",
    "        print(f\"Epoch {epoch + 1}/{cfg['train']['n_epochs']}, Loss: {epoch_loss}, Train accuracy: {train_accuracy:.2f}%, Test accuracy: {test_accuracy:.2f}%\")\n",
    "\n",
    "print(\"#\"*50)\n",
    "print(f'Final_loss: {epoch_loss}')\n",
    "print(f'Final train accuracy: {accuracy(model, train_dataloader):.2f}%')\n",
    "print(f'Final test accuracy: {accuracy(model, test_dataloader):.2f}%')"
   ]
  },
  {
   "cell_type": "code",
   "execution_count": null,
   "metadata": {},
   "outputs": [],
   "source": []
  }
 ],
 "metadata": {
  "kernelspec": {
   "display_name": "env",
   "language": "python",
   "name": "python3"
  },
  "language_info": {
   "codemirror_mode": {
    "name": "ipython",
    "version": 3
   },
   "file_extension": ".py",
   "mimetype": "text/x-python",
   "name": "python",
   "nbconvert_exporter": "python",
   "pygments_lexer": "ipython3",
   "version": "3.10.11"
  },
  "orig_nbformat": 4
 },
 "nbformat": 4,
 "nbformat_minor": 2
}
